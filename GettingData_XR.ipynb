{
 "cells": [
  {
   "cell_type": "markdown",
   "metadata": {},
   "source": [
    "<a name=\"top\"></a>\n",
    "<div style=\"width:1000 px\">\n",
    "\n",
    "<div style=\"float:right; width:98 px; height:98px;\">\n",
    "<img src=\"https://cdn.miami.edu/_assets-common/images/system/um-logo-gray-bg.png\" alt=\"Miami Logo\" style=\"height: 98px;\">\n",
    "</div>\n",
    "\n",
    "<h1>Lunch Byte 4/19/2019</h1>\n",
    "By Kayla Besong\n",
    "    \n",
    "<br>\n",
    "<br>\n",
    "<br>Introduction to Xarray simple functions to upload and process data from NOAA for ProcessData_XR.ipynb\n",
    "<br>use to compare to GettingData_XRDASK.ipynb\n",
    "\n",
    "\n",
    "\n",
    "<div style=\"clear:both\"></div>\n",
    "</div>\n",
    "\n",
    "<hr style=\"height:2px;\">"
   ]
  },
  {
   "cell_type": "code",
   "execution_count": 1,
   "metadata": {},
   "outputs": [],
   "source": [
    "import xarray as xr\n",
    "import numpy as np\n",
    "import matplotlib.pyplot as plt\n",
    "import matplotlib as mpl\n",
    "import netCDF4 as nc\n",
    "from mpl_toolkits.basemap import Basemap\n"
   ]
  },
  {
   "cell_type": "markdown",
   "metadata": {},
   "source": [
    "### Let's Import Some Data through NOAA "
   ]
  },
  {
   "cell_type": "code",
   "execution_count": 2,
   "metadata": {},
   "outputs": [
    {
     "name": "stdout",
     "output_type": "stream",
     "text": [
      "('https://www.esrl.noaa.gov/psd/thredds/dodsC/Datasets/ncep.reanalysis2/pressure/hgt.1995.nc', 'https://www.esrl.noaa.gov/psd/thredds/dodsC/Datasets/ncep.reanalysis2/pressure/air.1995.nc')\n"
     ]
    },
    {
     "name": "stderr",
     "output_type": "stream",
     "text": [
      "/Users/newumuser/anaconda2/envs/lunchbyte_besong/lib/python2.7/site-packages/xarray/conventions.py:394: SerializationWarning: variable u'hgt' has multiple fill values set([-32767, 32766]), decoding all values to NaN.\n",
      "  stack_char_dim=stack_char_dim)\n",
      "/Users/newumuser/anaconda2/envs/lunchbyte_besong/lib/python2.7/site-packages/xarray/conventions.py:394: SerializationWarning: variable u'air' has multiple fill values set([-32767, 32766]), decoding all values to NaN.\n",
      "  stack_char_dim=stack_char_dim)\n"
     ]
    },
    {
     "name": "stdout",
     "output_type": "stream",
     "text": [
      "('https://www.esrl.noaa.gov/psd/thredds/dodsC/Datasets/ncep.reanalysis2/pressure/hgt.1996.nc', 'https://www.esrl.noaa.gov/psd/thredds/dodsC/Datasets/ncep.reanalysis2/pressure/air.1996.nc')\n",
      "('https://www.esrl.noaa.gov/psd/thredds/dodsC/Datasets/ncep.reanalysis2/pressure/hgt.1997.nc', 'https://www.esrl.noaa.gov/psd/thredds/dodsC/Datasets/ncep.reanalysis2/pressure/air.1997.nc')\n",
      "('https://www.esrl.noaa.gov/psd/thredds/dodsC/Datasets/ncep.reanalysis2/pressure/hgt.1998.nc', 'https://www.esrl.noaa.gov/psd/thredds/dodsC/Datasets/ncep.reanalysis2/pressure/air.1998.nc')\n",
      "('https://www.esrl.noaa.gov/psd/thredds/dodsC/Datasets/ncep.reanalysis2/pressure/hgt.1999.nc', 'https://www.esrl.noaa.gov/psd/thredds/dodsC/Datasets/ncep.reanalysis2/pressure/air.1999.nc')\n",
      "('https://www.esrl.noaa.gov/psd/thredds/dodsC/Datasets/ncep.reanalysis2/pressure/hgt.2000.nc', 'https://www.esrl.noaa.gov/psd/thredds/dodsC/Datasets/ncep.reanalysis2/pressure/air.2000.nc')\n",
      "CPU times: user 247 ms, sys: 35 ms, total: 282 ms\n",
      "Wall time: 46.6 s\n"
     ]
    }
   ],
   "source": [
    "%%time\n",
    "\n",
    "heights = []                                   # empty array to append opened netCDF's to\n",
    "temps = []\n",
    "date_range = np.arange(1995,2001,1)            # range of years interested in obtaining, remember python starts counting at 0 so for 10 years we actually need to say through 2005\n",
    "\n",
    "\n",
    "for i in date_range:\n",
    "    url_h = 'https://www.esrl.noaa.gov/psd/thredds/dodsC/Datasets/ncep.reanalysis2/pressure/hgt.%s.nc' % i    # string subset -->  %.s and % i will insert the i in date_range we are looping through\n",
    "    url_t = 'https://www.esrl.noaa.gov/psd/thredds/dodsC/Datasets/ncep.reanalysis2/pressure/air.%s.nc' % i\n",
    "    print(url_h, url_t)\n",
    "    h1 = xr.open_dataset(url_h)\n",
    "    t1 = xr.open_dataset(url_t)                                # open netcdfs with xarray\n",
    "    heights.append(h1)                                         # append opened files \n",
    "    temps.append(t1)"
   ]
  },
  {
   "cell_type": "markdown",
   "metadata": {},
   "source": [
    "#### Take a peak to ensure everything was read successfully and understand the dataset that you have"
   ]
  },
  {
   "cell_type": "code",
   "execution_count": 3,
   "metadata": {},
   "outputs": [
    {
     "data": {
      "text/plain": [
       "<xarray.Dataset>\n",
       "Dimensions:  (lat: 73, level: 17, lon: 144, time: 1460)\n",
       "Coordinates:\n",
       "  * level    (level) float32 1000.0 925.0 850.0 700.0 ... 50.0 30.0 20.0 10.0\n",
       "  * lat      (lat) float32 90.0 87.5 85.0 82.5 80.0 ... -82.5 -85.0 -87.5 -90.0\n",
       "  * lon      (lon) float32 0.0 2.5 5.0 7.5 10.0 ... 350.0 352.5 355.0 357.5\n",
       "  * time     (time) datetime64[ns] 1995-01-01 ... 1995-12-31T18:00:00\n",
       "Data variables:\n",
       "    hgt      (time, level, lat, lon) float32 ...\n",
       "Attributes:\n",
       "    Conventions:                     CF-1.0\n",
       "    title:                           4x daily NCEP/DOE Reanalysis 2\n",
       "    history:                         created 2002/03/15 by RHS (netCDF2.3)\n",
       "    comments:                        Data is from \\nNCEP/DOE AMIP-II Reanalys...\n",
       "    platform:                        Model\n",
       "    source:                          NCEP/DOE AMIP-II Reanalysis (Reanalysis-...\n",
       "    institution:                     National Centers for Environmental Predi...\n",
       "    dataset_title:                   NCEP-DOE AMIP-II Reanalysis\n",
       "    References:                      https://www.esrl.noaa.gov/psd/data/gridd...\n",
       "    source_url:                      http://www.cpc.ncep.noaa.gov/products/we...\n",
       "    DODS_EXTRA.Unlimited_Dimension:  time"
      ]
     },
     "execution_count": 3,
     "metadata": {},
     "output_type": "execute_result"
    }
   ],
   "source": [
    "heights[0]"
   ]
  },
  {
   "cell_type": "code",
   "execution_count": 4,
   "metadata": {},
   "outputs": [
    {
     "data": {
      "text/plain": [
       "<xarray.Dataset>\n",
       "Dimensions:  (lat: 73, level: 17, lon: 144, time: 1460)\n",
       "Coordinates:\n",
       "  * level    (level) float32 1000.0 925.0 850.0 700.0 ... 50.0 30.0 20.0 10.0\n",
       "  * lat      (lat) float32 90.0 87.5 85.0 82.5 80.0 ... -82.5 -85.0 -87.5 -90.0\n",
       "  * lon      (lon) float32 0.0 2.5 5.0 7.5 10.0 ... 350.0 352.5 355.0 357.5\n",
       "  * time     (time) datetime64[ns] 1995-01-01 ... 1995-12-31T18:00:00\n",
       "Data variables:\n",
       "    air      (time, level, lat, lon) float32 ...\n",
       "Attributes:\n",
       "    Conventions:                     CF-1.0\n",
       "    title:                           4x Daily NCEP/DOE Reanalysis 2\n",
       "    history:                         created 2002/03/15 by RHS (netCDF2.3)\n",
       "    comments:                        Data is from \\nNCEP/DOE AMIP-II Reanalys...\n",
       "    platform:                        Model\n",
       "    source:                          NCEP/DOE AMIP-II Reanalysis (Reanalysis-...\n",
       "    institution:                     National Centers for Environmental Predi...\n",
       "    dataset_title:                   NCEP-DOE AMIP-II Reanalysis\n",
       "    References:                      https://www.esrl.noaa.gov/psd/data/gridd...\n",
       "    source_url:                      http://www.cpc.ncep.noaa.gov/products/we...\n",
       "    DODS_EXTRA.Unlimited_Dimension:  time"
      ]
     },
     "execution_count": 4,
     "metadata": {},
     "output_type": "execute_result"
    }
   ],
   "source": [
    "temps[0]"
   ]
  },
  {
   "cell_type": "markdown",
   "metadata": {},
   "source": [
    "### Select what you're looking for "
   ]
  },
  {
   "cell_type": "code",
   "execution_count": 5,
   "metadata": {},
   "outputs": [
    {
     "name": "stdout",
     "output_type": "stream",
     "text": [
      "CPU times: user 17.2 ms, sys: 306 µs, total: 17.5 ms\n",
      "Wall time: 17.3 ms\n"
     ]
    }
   ],
   "source": [
    "%%time\n",
    "\n",
    "for i in range(len(heights)):\n",
    "    heights[i] = heights[i].sel(lat = slice(90,0), level = 500)\n",
    "    temps[i] = temps[i].sel(lat = slice(90,0), level = 925)\n",
    "\n"
   ]
  },
  {
   "cell_type": "markdown",
   "metadata": {},
   "source": [
    "### Turn list of urls into one large, combined (concatenated) dataset based on time"
   ]
  },
  {
   "cell_type": "code",
   "execution_count": 6,
   "metadata": {},
   "outputs": [
    {
     "name": "stdout",
     "output_type": "stream",
     "text": [
      "CPU times: user 2.16 s, sys: 1.85 s, total: 4.01 s\n",
      "Wall time: 3min 7s\n"
     ]
    }
   ],
   "source": [
    "%%time \n",
    "concat_h = xr.concat(heights, dim = 'time')                           # aligns all the lat, lon, lev, values of all the datasets based on dimesnion of time"
   ]
  },
  {
   "cell_type": "code",
   "execution_count": 7,
   "metadata": {},
   "outputs": [
    {
     "name": "stdout",
     "output_type": "stream",
     "text": [
      "CPU times: user 1.82 s, sys: 1.22 s, total: 3.05 s\n",
      "Wall time: 1min 43s\n"
     ]
    }
   ],
   "source": [
    "%%time \n",
    "concat_t = xr.concat(temps, dim = 'time')"
   ]
  },
  {
   "cell_type": "markdown",
   "metadata": {},
   "source": [
    "### Resample into daily averaged"
   ]
  },
  {
   "cell_type": "code",
   "execution_count": 8,
   "metadata": {},
   "outputs": [
    {
     "name": "stdout",
     "output_type": "stream",
     "text": [
      "CPU times: user 9.64 s, sys: 201 ms, total: 9.84 s\n",
      "Wall time: 9.91 s\n"
     ]
    }
   ],
   "source": [
    "%%time \n",
    "concat_h = concat_h.resample(time = '24H').mean(dim = 'time')             # resample can take various time arguments such as season, year, minutes \n",
    "concat_t = concat_t.resample(time = '24H').mean(dim = 'time')"
   ]
  },
  {
   "cell_type": "markdown",
   "metadata": {},
   "source": [
    "#### Write out data for processing "
   ]
  },
  {
   "cell_type": "code",
   "execution_count": null,
   "metadata": {},
   "outputs": [],
   "source": [
    "%%time\n",
    "concat_h.to_netcdf('heights_9520.nc')"
   ]
  },
  {
   "cell_type": "code",
   "execution_count": null,
   "metadata": {},
   "outputs": [],
   "source": [
    "%%time\n",
    "concat_t.to_netcdf('temps_9520.nc')"
   ]
  }
 ],
 "metadata": {
  "kernelspec": {
   "display_name": "Python 2",
   "language": "python",
   "name": "python2"
  },
  "language_info": {
   "codemirror_mode": {
    "name": "ipython",
    "version": 2
   },
   "file_extension": ".py",
   "mimetype": "text/x-python",
   "name": "python",
   "nbconvert_exporter": "python",
   "pygments_lexer": "ipython2",
   "version": "2.7.15"
  }
 },
 "nbformat": 4,
 "nbformat_minor": 2
}
