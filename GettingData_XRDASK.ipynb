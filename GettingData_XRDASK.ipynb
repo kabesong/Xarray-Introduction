{
 "cells": [
  {
   "cell_type": "markdown",
   "metadata": {},
   "source": [
    "<a name=\"top\"></a>\n",
    "<div style=\"width:1000 px\">\n",
    "\n",
    "<div style=\"float:right; width:98 px; height:98px;\">\n",
    "<img src=\"https://cdn.miami.edu/_assets-common/images/system/um-logo-gray-bg.png\" alt=\"Miami Logo\" style=\"height: 98px;\">\n",
    "</div>\n",
    "\n",
    "<h1>Lunch Byte 4/19/2019</h1>\n",
    "By Kayla Besong\n",
    "    \n",
    "<br>\n",
    "<br>\n",
    "<br>Introduction to Xarray and Dask to upload and process data from NOAA for ProcessData_XR.ipynb\n",
    "<br>use to compare to GettingData_XR.ipynb\n",
    "\n",
    "\n",
    "\n",
    "<div style=\"clear:both\"></div>\n",
    "</div>\n",
    "\n",
    "<hr style=\"height:2px;\">"
   ]
  },
  {
   "cell_type": "code",
   "execution_count": 1,
   "metadata": {},
   "outputs": [],
   "source": [
    "import xarray as xr\n",
    "import numpy as np\n",
    "import matplotlib.pyplot as plt\n",
    "import matplotlib as mpl\n",
    "import netCDF4 as nc\n",
    "from mpl_toolkits.basemap import Basemap\n",
    "from datetime import datetime\n",
    "from dask.diagnostics import ProgressBar\n"
   ]
  },
  {
   "cell_type": "code",
   "execution_count": 2,
   "metadata": {},
   "outputs": [],
   "source": [
    "%matplotlib inline\n",
    "\n",
    "from dask.distributed import Client\n",
    "import xarray as xr"
   ]
  },
  {
   "cell_type": "markdown",
   "metadata": {},
   "source": [
    "### Let's Import Some Data through NOAA "
   ]
  },
  {
   "cell_type": "code",
   "execution_count": 3,
   "metadata": {},
   "outputs": [
    {
     "name": "stdout",
     "output_type": "stream",
     "text": [
      "https://www.esrl.noaa.gov/psd/thredds/dodsC/Datasets/ncep.reanalysis2/pressure/hgt.1982.nc\n",
      "https://www.esrl.noaa.gov/psd/thredds/dodsC/Datasets/ncep.reanalysis2/pressure/hgt.1983.nc\n",
      "https://www.esrl.noaa.gov/psd/thredds/dodsC/Datasets/ncep.reanalysis2/pressure/hgt.1984.nc\n",
      "https://www.esrl.noaa.gov/psd/thredds/dodsC/Datasets/ncep.reanalysis2/pressure/hgt.1985.nc\n",
      "https://www.esrl.noaa.gov/psd/thredds/dodsC/Datasets/ncep.reanalysis2/pressure/hgt.1986.nc\n",
      "https://www.esrl.noaa.gov/psd/thredds/dodsC/Datasets/ncep.reanalysis2/pressure/hgt.1987.nc\n",
      "https://www.esrl.noaa.gov/psd/thredds/dodsC/Datasets/ncep.reanalysis2/pressure/hgt.1988.nc\n",
      "https://www.esrl.noaa.gov/psd/thredds/dodsC/Datasets/ncep.reanalysis2/pressure/hgt.1989.nc\n",
      "https://www.esrl.noaa.gov/psd/thredds/dodsC/Datasets/ncep.reanalysis2/pressure/hgt.1990.nc\n",
      "https://www.esrl.noaa.gov/psd/thredds/dodsC/Datasets/ncep.reanalysis2/pressure/hgt.1991.nc\n",
      "https://www.esrl.noaa.gov/psd/thredds/dodsC/Datasets/ncep.reanalysis2/pressure/hgt.1992.nc\n",
      "https://www.esrl.noaa.gov/psd/thredds/dodsC/Datasets/ncep.reanalysis2/pressure/hgt.1993.nc\n",
      "https://www.esrl.noaa.gov/psd/thredds/dodsC/Datasets/ncep.reanalysis2/pressure/hgt.1994.nc\n",
      "https://www.esrl.noaa.gov/psd/thredds/dodsC/Datasets/ncep.reanalysis2/pressure/hgt.1995.nc\n",
      "https://www.esrl.noaa.gov/psd/thredds/dodsC/Datasets/ncep.reanalysis2/pressure/hgt.1996.nc\n",
      "https://www.esrl.noaa.gov/psd/thredds/dodsC/Datasets/ncep.reanalysis2/pressure/hgt.1997.nc\n",
      "https://www.esrl.noaa.gov/psd/thredds/dodsC/Datasets/ncep.reanalysis2/pressure/hgt.1998.nc\n",
      "https://www.esrl.noaa.gov/psd/thredds/dodsC/Datasets/ncep.reanalysis2/pressure/hgt.1999.nc\n",
      "https://www.esrl.noaa.gov/psd/thredds/dodsC/Datasets/ncep.reanalysis2/pressure/hgt.2000.nc\n",
      "https://www.esrl.noaa.gov/psd/thredds/dodsC/Datasets/ncep.reanalysis2/pressure/hgt.2001.nc\n",
      "https://www.esrl.noaa.gov/psd/thredds/dodsC/Datasets/ncep.reanalysis2/pressure/hgt.2002.nc\n",
      "https://www.esrl.noaa.gov/psd/thredds/dodsC/Datasets/ncep.reanalysis2/pressure/hgt.2003.nc\n",
      "https://www.esrl.noaa.gov/psd/thredds/dodsC/Datasets/ncep.reanalysis2/pressure/hgt.2004.nc\n",
      "https://www.esrl.noaa.gov/psd/thredds/dodsC/Datasets/ncep.reanalysis2/pressure/hgt.2005.nc\n",
      "https://www.esrl.noaa.gov/psd/thredds/dodsC/Datasets/ncep.reanalysis2/pressure/hgt.2006.nc\n",
      "https://www.esrl.noaa.gov/psd/thredds/dodsC/Datasets/ncep.reanalysis2/pressure/hgt.2007.nc\n",
      "https://www.esrl.noaa.gov/psd/thredds/dodsC/Datasets/ncep.reanalysis2/pressure/hgt.2008.nc\n",
      "https://www.esrl.noaa.gov/psd/thredds/dodsC/Datasets/ncep.reanalysis2/pressure/hgt.2009.nc\n",
      "https://www.esrl.noaa.gov/psd/thredds/dodsC/Datasets/ncep.reanalysis2/pressure/hgt.2010.nc\n",
      "https://www.esrl.noaa.gov/psd/thredds/dodsC/Datasets/ncep.reanalysis2/pressure/hgt.2011.nc\n",
      "https://www.esrl.noaa.gov/psd/thredds/dodsC/Datasets/ncep.reanalysis2/pressure/hgt.2012.nc\n",
      "https://www.esrl.noaa.gov/psd/thredds/dodsC/Datasets/ncep.reanalysis2/pressure/hgt.2013.nc\n",
      "https://www.esrl.noaa.gov/psd/thredds/dodsC/Datasets/ncep.reanalysis2/pressure/hgt.2014.nc\n",
      "https://www.esrl.noaa.gov/psd/thredds/dodsC/Datasets/ncep.reanalysis2/pressure/hgt.2015.nc\n",
      "https://www.esrl.noaa.gov/psd/thredds/dodsC/Datasets/ncep.reanalysis2/pressure/hgt.2016.nc\n",
      "CPU times: user 930 µs, sys: 445 µs, total: 1.37 ms\n",
      "Wall time: 929 µs\n"
     ]
    }
   ],
   "source": [
    "%%time\n",
    "\n",
    "heights = []                                   # empty array to append opened netCDF's to\n",
    "temps = []\n",
    "date_range = np.arange(1982, 2017,1)            # range of years interested in obtaining, remember python starts counting at 0 so for 10 years we actually need to say through 2005\n",
    "\n",
    "\n",
    "for i in date_range:\n",
    "    url_h = 'https://www.esrl.noaa.gov/psd/thredds/dodsC/Datasets/ncep.reanalysis2/pressure/hgt.%s.nc' % i    # string subset -->  %.s and % i will insert the i in date_range we are looping through\n",
    "    print url_h\n",
    "    \n",
    "    heights.append(url_h)                                         # append \n"
   ]
  },
  {
   "cell_type": "markdown",
   "metadata": {},
   "source": [
    "### Turn list of urls into one large, combined (concatenated) dataset based on time"
   ]
  },
  {
   "cell_type": "code",
   "execution_count": 4,
   "metadata": {},
   "outputs": [
    {
     "name": "stderr",
     "output_type": "stream",
     "text": [
      "/Users/newumuser/anaconda2/envs/lunchbyte_besong/lib/python2.7/site-packages/xarray/conventions.py:394: SerializationWarning: variable u'hgt' has multiple fill values set([-32767, 32766]), decoding all values to NaN.\n",
      "  stack_char_dim=stack_char_dim)\n"
     ]
    },
    {
     "name": "stdout",
     "output_type": "stream",
     "text": [
      "CPU times: user 827 ms, sys: 110 ms, total: 937 ms\n",
      "Wall time: 7min 4s\n"
     ]
    }
   ],
   "source": [
    "%%time \n",
    "concat_h = xr.open_mfdataset(heights)                          # aligns all the lat, lon, lev, values of all the datasets based on dimesnion of time\n"
   ]
  },
  {
   "cell_type": "code",
   "execution_count": 5,
   "metadata": {},
   "outputs": [
    {
     "name": "stderr",
     "output_type": "stream",
     "text": [
      "/Users/newumuser/anaconda2/envs/lunchbyte_besong/lib/python2.7/site-packages/xarray/conventions.py:394: SerializationWarning: variable u'air' has multiple fill values set([-32767, 32766]), decoding all values to NaN.\n",
      "  stack_char_dim=stack_char_dim)\n"
     ]
    },
    {
     "name": "stdout",
     "output_type": "stream",
     "text": [
      "CPU times: user 139 ms, sys: 20.7 ms, total: 160 ms\n",
      "Wall time: 1min 26s\n"
     ]
    }
   ],
   "source": [
    "%%time \n",
    "concat_t = xr.open_mfdataset(temps)"
   ]
  },
  {
   "cell_type": "markdown",
   "metadata": {},
   "source": [
    "#### Take a peak to ensure everything was read successfully and understand the dataset that you have"
   ]
  },
  {
   "cell_type": "code",
   "execution_count": 6,
   "metadata": {},
   "outputs": [
    {
     "data": {
      "text/plain": [
       "(<xarray.Dataset>\n",
       " Dimensions:  (lat: 73, level: 17, lon: 144, time: 8768)\n",
       " Coordinates:\n",
       "   * level    (level) float32 1000.0 925.0 850.0 700.0 ... 50.0 30.0 20.0 10.0\n",
       "   * lat      (lat) float32 90.0 87.5 85.0 82.5 80.0 ... -82.5 -85.0 -87.5 -90.0\n",
       "   * lon      (lon) float32 0.0 2.5 5.0 7.5 10.0 ... 350.0 352.5 355.0 357.5\n",
       "   * time     (time) datetime64[ns] 1995-01-01 ... 2000-12-31T18:00:00\n",
       " Data variables:\n",
       "     hgt      (time, level, lat, lon) float32 dask.array<shape=(8768, 17, 73, 144), chunksize=(1460, 17, 73, 144)>\n",
       " Attributes:\n",
       "     Conventions:                     CF-1.0\n",
       "     title:                           4x daily NCEP/DOE Reanalysis 2\n",
       "     history:                         created 2002/03/15 by RHS (netCDF2.3)\n",
       "     comments:                        Data is from \\nNCEP/DOE AMIP-II Reanalys...\n",
       "     platform:                        Model\n",
       "     source:                          NCEP/DOE AMIP-II Reanalysis (Reanalysis-...\n",
       "     institution:                     National Centers for Environmental Predi...\n",
       "     dataset_title:                   NCEP-DOE AMIP-II Reanalysis\n",
       "     References:                      https://www.esrl.noaa.gov/psd/data/gridd...\n",
       "     source_url:                      http://www.cpc.ncep.noaa.gov/products/we...\n",
       "     DODS_EXTRA.Unlimited_Dimension:  time, <xarray.Dataset>\n",
       " Dimensions:  (lat: 73, level: 17, lon: 144, time: 8768)\n",
       " Coordinates:\n",
       "   * level    (level) float32 1000.0 925.0 850.0 700.0 ... 50.0 30.0 20.0 10.0\n",
       "   * lat      (lat) float32 90.0 87.5 85.0 82.5 80.0 ... -82.5 -85.0 -87.5 -90.0\n",
       "   * lon      (lon) float32 0.0 2.5 5.0 7.5 10.0 ... 350.0 352.5 355.0 357.5\n",
       "   * time     (time) datetime64[ns] 1995-01-01 ... 2000-12-31T18:00:00\n",
       " Data variables:\n",
       "     air      (time, level, lat, lon) float32 dask.array<shape=(8768, 17, 73, 144), chunksize=(1460, 17, 73, 144)>\n",
       " Attributes:\n",
       "     Conventions:                     CF-1.0\n",
       "     title:                           4x Daily NCEP/DOE Reanalysis 2\n",
       "     history:                         created 2002/03/15 by RHS (netCDF2.3)\n",
       "     comments:                        Data is from \\nNCEP/DOE AMIP-II Reanalys...\n",
       "     platform:                        Model\n",
       "     source:                          NCEP/DOE AMIP-II Reanalysis (Reanalysis-...\n",
       "     institution:                     National Centers for Environmental Predi...\n",
       "     dataset_title:                   NCEP-DOE AMIP-II Reanalysis\n",
       "     References:                      https://www.esrl.noaa.gov/psd/data/gridd...\n",
       "     source_url:                      http://www.cpc.ncep.noaa.gov/products/we...\n",
       "     DODS_EXTRA.Unlimited_Dimension:  time)"
      ]
     },
     "execution_count": 6,
     "metadata": {},
     "output_type": "execute_result"
    }
   ],
   "source": [
    "concat_h, concat_t\n"
   ]
  },
  {
   "cell_type": "code",
   "execution_count": 7,
   "metadata": {},
   "outputs": [
    {
     "name": "stdout",
     "output_type": "stream",
     "text": [
      "CPU times: user 8.42 s, sys: 279 ms, total: 8.7 s\n",
      "Wall time: 8.53 s\n"
     ]
    }
   ],
   "source": [
    "%%time\n",
    "concat_h = concat_h.sel(lat = slice(90,0), level = 500).resample(time = '24H').mean(dim = 'time')"
   ]
  },
  {
   "cell_type": "code",
   "execution_count": 8,
   "metadata": {},
   "outputs": [
    {
     "name": "stdout",
     "output_type": "stream",
     "text": [
      "CPU times: user 8.48 s, sys: 110 ms, total: 8.59 s\n",
      "Wall time: 8.54 s\n"
     ]
    }
   ],
   "source": [
    "%%time\n",
    "concat_t = concat_t.sel(lat = slice(90,0), level = 925).resample(time = '24H').mean(dim = 'time')"
   ]
  },
  {
   "cell_type": "markdown",
   "metadata": {},
   "source": [
    "#### Take another peak"
   ]
  },
  {
   "cell_type": "code",
   "execution_count": 9,
   "metadata": {},
   "outputs": [
    {
     "data": {
      "text/plain": [
       "(<xarray.Dataset>\n",
       " Dimensions:  (lat: 37, lon: 144, time: 2192)\n",
       " Coordinates:\n",
       "   * time     (time) datetime64[ns] 1995-01-01 1995-01-02 ... 2000-12-31\n",
       "     level    float32 500.0\n",
       "   * lat      (lat) float32 90.0 87.5 85.0 82.5 80.0 ... 10.0 7.5 5.0 2.5 0.0\n",
       "   * lon      (lon) float32 0.0 2.5 5.0 7.5 10.0 ... 350.0 352.5 355.0 357.5\n",
       " Data variables:\n",
       "     hgt      (time, lat, lon) float32 dask.array<shape=(2192, 37, 144), chunksize=(1, 37, 144)>,\n",
       " <xarray.Dataset>\n",
       " Dimensions:  (lat: 37, lon: 144, time: 2192)\n",
       " Coordinates:\n",
       "   * time     (time) datetime64[ns] 1995-01-01 1995-01-02 ... 2000-12-31\n",
       "     level    float32 925.0\n",
       "   * lat      (lat) float32 90.0 87.5 85.0 82.5 80.0 ... 10.0 7.5 5.0 2.5 0.0\n",
       "   * lon      (lon) float32 0.0 2.5 5.0 7.5 10.0 ... 350.0 352.5 355.0 357.5\n",
       " Data variables:\n",
       "     air      (time, lat, lon) float32 dask.array<shape=(2192, 37, 144), chunksize=(1, 37, 144)>)"
      ]
     },
     "execution_count": 9,
     "metadata": {},
     "output_type": "execute_result"
    }
   ],
   "source": [
    "concat_h, concat_t"
   ]
  },
  {
   "cell_type": "markdown",
   "metadata": {},
   "source": [
    "#### Write out data for processing "
   ]
  },
  {
   "cell_type": "code",
   "execution_count": 10,
   "metadata": {},
   "outputs": [
    {
     "name": "stdout",
     "output_type": "stream",
     "text": [
      "CPU times: user 6.75 s, sys: 2.75 s, total: 9.5 s\n",
      "Wall time: 2min 43s\n"
     ]
    }
   ],
   "source": [
    "%%time\n",
    "concat_h.to_netcdf('heights_8316.nc')"
   ]
  },
  {
   "cell_type": "code",
   "execution_count": 11,
   "metadata": {},
   "outputs": [
    {
     "name": "stdout",
     "output_type": "stream",
     "text": [
      "CPU times: user 6.43 s, sys: 2.32 s, total: 8.74 s\n",
      "Wall time: 1min 27s\n"
     ]
    }
   ],
   "source": [
    "%%time\n",
    "concat_t.to_netcdf('temps_952022.nc')"
   ]
  },
  {
   "cell_type": "code",
   "execution_count": null,
   "metadata": {},
   "outputs": [],
   "source": []
  }
 ],
 "metadata": {
  "kernelspec": {
   "display_name": "Python 2",
   "language": "python",
   "name": "python2"
  },
  "language_info": {
   "codemirror_mode": {
    "name": "ipython",
    "version": 2
   },
   "file_extension": ".py",
   "mimetype": "text/x-python",
   "name": "python",
   "nbconvert_exporter": "python",
   "pygments_lexer": "ipython2",
   "version": "2.7.15"
  }
 },
 "nbformat": 4,
 "nbformat_minor": 2
}
